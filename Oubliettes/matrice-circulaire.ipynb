{
 "cells": [
  {
   "cell_type": "code",
   "execution_count": null,
   "metadata": {},
   "outputs": [],
   "source": [
    "def circular_matrix(center,radius):\n",
    "    'coordinates, int --> list_coordinates /// returns at least the center'\n",
    "    CourbeSuperieure = lambda x: (radius**2 - x**2)**0.5\n",
    "    points = []\n",
    "    for x in range(-radius, radius+1):\n",
    "        bornesup = CourbeSuperieure(x)\n",
    "        y = 0\n",
    "        while y <= bornesup:\n",
    "            points.append((x+center[0], y+center[1]))\n",
    "            if y+1<= bornesup:\n",
    "                points.append((x+center[0], center[1]-(y+1)))\n",
    "            y += 1\n",
    "    return points"
   ]
  }
 ],
 "metadata": {
  "language_info": {
   "name": "python"
  }
 },
 "nbformat": 4,
 "nbformat_minor": 2
}
