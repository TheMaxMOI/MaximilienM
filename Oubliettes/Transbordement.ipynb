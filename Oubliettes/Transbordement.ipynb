{
 "cells": [
  {
   "cell_type": "raw",
   "metadata": {
    "vscode": {
     "languageId": "raw"
    }
   },
   "source": [
    "Théorie\n",
    "\n",
    "Dans un graph supposé connexe (mais on peut s'en affranchir avec des poids infinis)\n",
    "\n",
    "Un graphe G représenté par une matrice d'adjacence à coefficient dans [0,+inf]\n",
    "    --> liste de listes\n",
    "    --> G[i,j]=w_ij\n",
    "Les noeuds sont étiquetés par les entiers de 0 à Card(G)\n",
    "Une liste A qui représente les coûts unitaires de transport\n",
    "    --> A[i,j]=w_ij\n",
    "Une liste B des flots minimum\n",
    "    --> B[i,j]=? mais surtout 0\n",
    "Une liste C des capacitées maximales\n",
    "    --> C[i,j] dans notre problème vaut 1\n",
    "Une liste Y des divergences désirées\n",
    "    --> Y[i]=1 si i est l'origine\n",
    "    --> Y[i]=-1 si i est l'arrivée\n",
    "    --> Y[i]=0 sinon\n",
    "    de telle sorte que la somme(Y[i] avec i parcourant les noeuds)=0 (comme dans le doc)\n",
    "\n",
    "\n"
   ]
  },
  {
   "cell_type": "code",
   "execution_count": 4,
   "metadata": {},
   "outputs": [
    {
     "name": "stdout",
     "output_type": "stream",
     "text": [
      "inf\n"
     ]
    }
   ],
   "source": []
  }
 ],
 "metadata": {
  "kernelspec": {
   "display_name": "Python 3",
   "language": "python",
   "name": "python3"
  },
  "language_info": {
   "codemirror_mode": {
    "name": "ipython",
    "version": 3
   },
   "file_extension": ".py",
   "mimetype": "text/x-python",
   "name": "python",
   "nbconvert_exporter": "python",
   "pygments_lexer": "ipython3",
   "version": "3.9.4"
  }
 },
 "nbformat": 4,
 "nbformat_minor": 2
}
