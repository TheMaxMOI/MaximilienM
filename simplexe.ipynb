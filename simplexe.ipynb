{
 "cells": [
  {
   "cell_type": "code",
   "execution_count": 153,
   "metadata": {},
   "outputs": [],
   "source": [
    "def forme_standardVERScanonique(A,B,z): \n",
    "    '''En notant n le nombre d'inconnues, m longueur de B (nombre de contraintes) alors A est de la taille m*n, z de longueur n'''\n",
    "    '''On passe de résoudre A <= B selon z à A' = B selon z\\''''\n",
    "\n",
    "    new_A=[]\n",
    "    m=len(B)\n",
    "    for i in range(len(A)): \n",
    "        new_A.append(A[i]+[1 if k==i else 0 for k in range(m)])\n",
    "    new_z=z+[0]*(m+1)\n",
    "\n",
    "    base_sortante=[i+len(A[0]) for i in range(m)]\n",
    "\n",
    "    return new_A,B,new_z,base_sortante\n",
    "\n",
    "def tableau_de_calcul(A,B,z):\n",
    "    M=[]\n",
    "    for i in range(len(A)):\n",
    "        M.append(A[i]+[B[i]])\n",
    "    M.append(z)\n",
    "    return M\n",
    "\n",
    "def choix_variable1(M):\n",
    "    c=M[-1].index(max(M[-1]))\n",
    "    return c\n",
    "\n",
    "def choix_variable2(M,c): # c=choix_variable1(M)\n",
    "    f=lambda i : M[i][-1]/M[i][c] if M[i][c]!=0 else float('inf')\n",
    "    indices_des_lignes=[i for i in range(len(M)-1) if f(i)>=0]\n",
    "    if indices_des_lignes:\n",
    "        l = min(indices_des_lignes, key=f)\n",
    "        return l\n",
    "    else:\n",
    "        return None\n",
    "\n",
    "def update(M,c,l,base_sortante): # c=choix_variable1(M) ; l=choix_variable2(M,c)\n",
    "    new_M=[[] for i in range(len(M))]\n",
    "    for j in range(len(M[0])):\n",
    "        new_M[l].append(M[l][j]/M[l][c])\n",
    "\n",
    "    f=lambda i,j : M[i][j] - (M[i][c]/M[l][c])*M[l][j]\n",
    "    for i in range(len(M)):\n",
    "        if i!=l:\n",
    "            new_M[i]=[f(i,j) for j in range(len(M[i]))]\n",
    "    base_sortante=[c if i==l else base_sortante[i] for i in range(len(base_sortante))] #au lieu de base_sortante[l]=c qui créait des effets de bords donc une boucle dans le code corps\n",
    "\n",
    "    return new_M,base_sortante\n",
    "\n",
    "def elmt_strictement_positif_dans(l):\n",
    "    for i in l:\n",
    "        if i>0:\n",
    "            return True\n",
    "    else :\n",
    "        return False\n",
    "\n",
    "def simplexe(A,B,z):\n",
    "    z_init=z\n",
    "    variables_hors_base=[i for i in range(len(A[0]))]\n",
    "\n",
    "    (new_A,B,new_z,base_sortante)=forme_standardVERScanonique(A,B,z)\n",
    "    M = tableau_de_calcul(new_A,B,new_z)\n",
    "\n",
    "    #On rajoute tableaus_existants parce que parfois le while oscille entre des solutions.\n",
    "    tableaux_existants=[]\n",
    "\n",
    "    while elmt_strictement_positif_dans(M[-1]):\n",
    "        print(1)\n",
    "        c = choix_variable1(M)\n",
    "        l = choix_variable2(M,c)\n",
    "        (M,base_sortante)=update(M,c,l,base_sortante)\n",
    "        if (M,base_sortante) not in tableaux_existants:\n",
    "            tableaux_existants.append((M,base_sortante))\n",
    "        else:\n",
    "            break\n",
    "    \n",
    "    return variables_hors_base,tableaux_existants\n",
    "    \n",
    "    # vecteur_sol=[M[i][-1] for i in range(len(base_sortante)) if base_sortante[i] in variables_hors_base]\n",
    "    # z_maximisé=sum([z_init[i]*vecteur_sol[i] for i in range(len(z_init))])\n",
    "    # return vecteur_sol,z_maximisé\n"
   ]
  },
  {
   "cell_type": "code",
   "execution_count": 154,
   "metadata": {},
   "outputs": [
    {
     "name": "stdout",
     "output_type": "stream",
     "text": [
      "1\n",
      "1\n"
     ]
    },
    {
     "data": {
      "text/plain": [
       "([0, 1],\n",
       " [([[3.0, 0.0, 1.0, 0.0, -2.0, 600.0],\n",
       "    [1.0, 0.0, 0.0, 1.0, 0.0, 400.0],\n",
       "    [0.0, 1.0, 0.0, 0.0, 1.0, 600.0],\n",
       "    [30.0, 0.0, 0.0, 0.0, -50.0, -30000.0]],\n",
       "   [2, 3, 1]),\n",
       "  ([[1.0, 0.0, 0.3333333333333333, 0.0, -0.6666666666666666, 200.0],\n",
       "    [0.0, 0.0, -0.3333333333333333, 1.0, 0.6666666666666666, 200.0],\n",
       "    [0.0, 1.0, 0.0, 0.0, 1.0, 600.0],\n",
       "    [0.0, 0.0, -10.0, 0.0, -30.0, -36000.0]],\n",
       "   [0, 3, 1])])"
      ]
     },
     "execution_count": 154,
     "metadata": {},
     "output_type": "execute_result"
    }
   ],
   "source": [
    "### Exemple 1\n",
    "A=[\n",
    "    [3,2],\n",
    "    [1,0],\n",
    "    [0,1]\n",
    "]\n",
    "B=[1800,400,600]\n",
    "z=[30,50]\n",
    "\n",
    "simplexe(A,B,z)"
   ]
  },
  {
   "cell_type": "code",
   "execution_count": 155,
   "metadata": {},
   "outputs": [
    {
     "name": "stdout",
     "output_type": "stream",
     "text": [
      "1\n",
      "1\n",
      "1\n"
     ]
    },
    {
     "data": {
      "text/plain": [
       "([0, 1, 2],\n",
       " [([[0.5, 0.75, 1.0, 0.25, 0.0, 0.0, 300.0],\n",
       "    [0.5, 1.25, 0.0, -0.25, 1.0, 0.0, 500.0],\n",
       "    [-1.0, -0.5, 0.0, -0.5, 0.0, 1.0, 0.0],\n",
       "    [15.0, -7.5, 0.0, -12.5, 0.0, 0.0, -15000.0]],\n",
       "   [2, 4, 5]),\n",
       "  ([[0.0, 0.5, 1.0, 0.0, 0.0, 0.5, 300.0],\n",
       "    [0.0, 1.0, 0.0, -0.5, 1.0, 0.5, 500.0],\n",
       "    [1.0, 0.5, -0.0, 0.5, -0.0, -1.0, -0.0],\n",
       "    [0.0, -15.0, 0.0, -20.0, 0.0, 15.0, -15000.0]],\n",
       "   [2, 4, 0])])"
      ]
     },
     "execution_count": 155,
     "metadata": {},
     "output_type": "execute_result"
    }
   ],
   "source": [
    "### Exemple 2\n",
    "A = [\n",
    "    [2, 3, 4],\n",
    "    [1, 2, 1],\n",
    "    [0, 1, 2],\n",
    "]\n",
    "B = [1200, 800, 600] \n",
    "z = [40, 30, 50]\n",
    "\n",
    "simplexe(A,B,z)"
   ]
  }
 ],
 "metadata": {
  "kernelspec": {
   "display_name": "Python 3",
   "language": "python",
   "name": "python3"
  },
  "language_info": {
   "codemirror_mode": {
    "name": "ipython",
    "version": 3
   },
   "file_extension": ".py",
   "mimetype": "text/x-python",
   "name": "python",
   "nbconvert_exporter": "python",
   "pygments_lexer": "ipython3",
   "version": "3.9.4"
  }
 },
 "nbformat": 4,
 "nbformat_minor": 2
}
