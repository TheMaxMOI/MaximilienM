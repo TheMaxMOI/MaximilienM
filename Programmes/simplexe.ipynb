{
 "cells": [
  {
   "cell_type": "code",
   "execution_count": 2,
   "metadata": {},
   "outputs": [],
   "source": [
    "def forme_standardVERScanonique(A,B,z): \n",
    "    '''En notant n le nombre d'inconnues, m longueur de B (nombre de contraintes) alors A est de la taille m*n, z de longueur n'''\n",
    "    '''On passe de résoudre A <= B selon z à A' = B selon z\\''''\n",
    "\n",
    "    new_A=[]\n",
    "    m=len(B)\n",
    "    for i in range(len(A)): \n",
    "        new_A.append(A[i]+[1 if k==i else 0 for k in range(m)])\n",
    "    new_z=z+[0]*(m+1)\n",
    "\n",
    "    base_sortante=[i+len(A[0]) for i in range(m)]\n",
    "\n",
    "    return new_A,B,new_z,base_sortante\n",
    "\n",
    "def tableau_de_calcul(A,B,z):\n",
    "    M=[]\n",
    "    for i in range(len(A)):\n",
    "        M.append(A[i]+[B[i]])\n",
    "    M.append(z)\n",
    "    return M\n",
    "\n",
    "def choix_variable1(M): ### PRENDRRE LE MAX NE FOURNIT PAS TOUJOURS LE BON PIVOT !!!\n",
    "    c=M[-1].index(max(M[-1]))\n",
    "    return c\n",
    "\n",
    "def choix_variable2(M,c): # c=choix_variable1(M)\n",
    "    f=lambda i : M[i][-1]/M[i][c] if M[i][c]!=0 else float('inf')\n",
    "    indices_des_lignes=[i for i in range(len(M)-1) if f(i)>=0]\n",
    "    if indices_des_lignes:\n",
    "        l = min(indices_des_lignes, key=f)\n",
    "        return l\n",
    "    else:\n",
    "        return None\n",
    "\n",
    "def update(M,c,l,base_sortante): # c=choix_variable1(M) ; l=choix_variable2(M,c)\n",
    "    new_M=[[] for i in range(len(M))]\n",
    "    for j in range(len(M[0])):\n",
    "        new_M[l].append(M[l][j]/M[l][c])\n",
    "\n",
    "    f=lambda i,j : M[i][j] - (M[i][c]/M[l][c])*M[l][j]\n",
    "    for i in range(len(M)):\n",
    "        if i!=l:\n",
    "            new_M[i]=[f(i,j) for j in range(len(M[i]))]\n",
    "    base_sortante=[c if i==l else base_sortante[i] for i in range(len(base_sortante))] #au lieu de base_sortante[l]=c qui créait des effets de bords donc une boucle dans le code corps\n",
    "\n",
    "    return new_M,base_sortante\n",
    "\n",
    "def elmt_strictement_positif_dans(l):\n",
    "    for i in l:\n",
    "        if i>0:\n",
    "            return True\n",
    "    else :\n",
    "        return False\n",
    "\n",
    "def simplexe(A, B, z):\n",
    "    variables_hors_base = [i for i in range(len(A[0]))]\n",
    "\n",
    "    (new_A, B, new_z, base_sortante) = forme_standardVERScanonique(A, B, z)\n",
    "    M = tableau_de_calcul(new_A, B, new_z)\n",
    "\n",
    "    # On utilise vecteurs_existants pour stocker les vecteurs solutions et z_maximisé\n",
    "    vecteurs_existants = []\n",
    "\n",
    "    while elmt_strictement_positif_dans(M[-1][:-1]):\n",
    "        c = choix_variable1(M)\n",
    "        l = choix_variable2(M, c)\n",
    "        if l is None:  # Aucun pivot possible\n",
    "            break\n",
    "        M, base_sortante = update(M, c, l, base_sortante)\n",
    "        \n",
    "        z_maximisé = -M[-1][-1]\n",
    "\n",
    "        # Construire le vecteur solution courant\n",
    "        vecteur_sol = []\n",
    "        for i in variables_hors_base:\n",
    "            if i in base_sortante:\n",
    "                ligne = base_sortante.index(i)\n",
    "                vecteur_sol.append(M[ligne][-1])\n",
    "            else:\n",
    "                vecteur_sol.append(0)\n",
    "\n",
    "        # Vérifier si une solution identique (même vecteur solution) existe\n",
    "        if any(v[0] == vecteur_sol for v in vecteurs_existants):\n",
    "            meilleure_solution = max(vecteurs_existants, key=lambda v: v[1])  # Meilleure valeur de z\n",
    "            if z_maximisé <= meilleure_solution[1]:\n",
    "                break  # La meilleure solution a été trouvée\n",
    "        else:\n",
    "            vecteurs_existants.append((vecteur_sol, z_maximisé))\n",
    "\n",
    "\n",
    "        # Ajouter le vecteur solution et z_maximisé à la liste des solutions existantes\n",
    "        vecteurs_existants.append((vecteur_sol, z_maximisé))\n",
    "\n",
    "    # Affichage des résultats\n",
    "    print(variables_hors_base)\n",
    "    for vecteur, z_max in [vecteurs_existants[-1]]:\n",
    "        print(f\"{vecteur} - {z_max}\")\n",
    "\n"
   ]
  },
  {
   "cell_type": "code",
   "execution_count": 3,
   "metadata": {},
   "outputs": [
    {
     "name": "stdout",
     "output_type": "stream",
     "text": [
      "[0, 1]\n",
      "[200.0, 600.0] - 36000.0\n"
     ]
    }
   ],
   "source": [
    "### Exemple 1\n",
    "A=[\n",
    "    [3,2],\n",
    "    [1,0],\n",
    "    [0,1]\n",
    "]\n",
    "B=[1800,400,600]\n",
    "z=[30,50]\n",
    "\n",
    "simplexe(A,B,z)"
   ]
  },
  {
   "cell_type": "code",
   "execution_count": 4,
   "metadata": {},
   "outputs": [
    {
     "name": "stdout",
     "output_type": "stream",
     "text": [
      "[0, 1, 2]\n",
      "[0, 0, 300.0] - 15000.0\n"
     ]
    }
   ],
   "source": [
    "### Exemple 2\n",
    "A = [\n",
    "    [2, 3, 4],\n",
    "    [1, 2, 1],\n",
    "    [0, 1, 2],\n",
    "]\n",
    "B = [1200, 800, 600]\n",
    "z = [40, 30, 50]\n",
    "\n",
    "simplexe(A,B,z)"
   ]
  },
  {
   "cell_type": "code",
   "execution_count": 5,
   "metadata": {},
   "outputs": [
    {
     "name": "stdout",
     "output_type": "stream",
     "text": [
      "[0, 1, 2]\n",
      "[5.0, 7.0, 0] - 1356.0\n"
     ]
    }
   ],
   "source": [
    "### Exemple 3\n",
    "A = [\n",
    "    [1,1,1],\n",
    "    [1,0,0],\n",
    "    [8,7,5],\n",
    "]\n",
    "B = [12,5,145]\n",
    "z = [120,108,75]\n",
    "\n",
    "simplexe(A,B,z)"
   ]
  },
  {
   "cell_type": "code",
   "execution_count": 6,
   "metadata": {},
   "outputs": [
    {
     "name": "stdout",
     "output_type": "stream",
     "text": [
      "['x', 'y', 'z']\n",
      "[600.0, 0.0, 0.0] - 24000.0\n"
     ]
    }
   ],
   "source": [
    "import warnings\n",
    "from scipy.optimize import linprog\n",
    "warnings.filterwarnings(\"ignore\", category=DeprecationWarning)\n",
    "\n",
    "A = [\n",
    "    [2, 3, 4],\n",
    "    [1, 2, 1],\n",
    "    [0, 1, 2],\n",
    "]\n",
    "B = [1200, 800, 600]\n",
    "z = [40, 30, 50]\n",
    "\n",
    "\n",
    "# Coefficients de la fonction objectif (à minimiser, donc -z)\n",
    "c = [-i for i in z]# Les signes sont inversés car linprog minimise par défaut\n",
    "\n",
    "# Bornes pour chaque variable (x, y, z >= 0)\n",
    "bounds = [(0, None), (0, None), (0, None)]\n",
    "\n",
    "# Résolution du problème\n",
    "result = linprog(c, A_ub=A, b_ub=B, bounds=bounds, method=\"simplex\")\n",
    "\n",
    "# Résultats formatés\n",
    "if result.success:\n",
    "    variables = [\"x\", \"y\", \"z\"]\n",
    "    solution = {var: round(val, 2) for var, val in zip(variables, result.x)}\n",
    "    z_max = round(-result.fun, 2)  # Revenir au signe +\n",
    "\n",
    "    print(variables)\n",
    "    print(f\"{list(solution.values())} - {z_max}\")\n",
    "else:\n",
    "    print(\"Problème sans solution ou échec de l'algorithme.\")"
   ]
  }
 ],
 "metadata": {
  "kernelspec": {
   "display_name": "Python 3",
   "language": "python",
   "name": "python3"
  },
  "language_info": {
   "codemirror_mode": {
    "name": "ipython",
    "version": 3
   },
   "file_extension": ".py",
   "mimetype": "text/x-python",
   "name": "python",
   "nbconvert_exporter": "python",
   "pygments_lexer": "ipython3",
   "version": "3.9.4"
  }
 },
 "nbformat": 4,
 "nbformat_minor": 2
}
