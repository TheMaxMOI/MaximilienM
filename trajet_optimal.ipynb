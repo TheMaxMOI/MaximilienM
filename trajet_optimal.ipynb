{
 "cells": [
  {
   "cell_type": "code",
   "execution_count": 14,
   "metadata": {},
   "outputs": [
    {
     "name": "stdout",
     "output_type": "stream",
     "text": [
      "[(1, 2, 3), (1, 3, 2), (2, 1, 3), (2, 3, 1), (3, 1, 2), (3, 2, 1)]\n"
     ]
    }
   ],
   "source": [
    "import itertools\n",
    "print(list(itertools.permutations([1, 2, 3])))\n",
    "\n",
    "def trajet_optimal(G,Intérêts,W):\n",
    "    trajet=Intérêts[1]\n",
    "    trajets_encore_possibles=[list(itertools.permutations(trajet))]\n",
    "    trajets_encore_possibles.remove(tuple(trajet))\n",
    "    while trajets_encore_possibles or est_optimal(trajet):\n",
    "        pass\n",
    "    return trajet"
   ]
  }
 ],
 "metadata": {
  "kernelspec": {
   "display_name": "Python 3",
   "language": "python",
   "name": "python3"
  },
  "language_info": {
   "codemirror_mode": {
    "name": "ipython",
    "version": 3
   },
   "file_extension": ".py",
   "mimetype": "text/x-python",
   "name": "python",
   "nbconvert_exporter": "python",
   "pygments_lexer": "ipython3",
   "version": "3.9.4"
  }
 },
 "nbformat": 4,
 "nbformat_minor": 2
}
